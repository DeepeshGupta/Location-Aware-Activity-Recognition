{
 "cells": [
  {
   "cell_type": "code",
   "execution_count": 88,
   "metadata": {},
   "outputs": [],
   "source": [
    "import numpy as np\n",
    "import pandas as pd\n",
    "import matplotlib as plt"
   ]
  },
  {
   "cell_type": "code",
   "execution_count": 89,
   "metadata": {},
   "outputs": [],
   "source": [
    "def generate_path_names():\n",
    "    activities = []\n",
    "    persons = []\n",
    "    segments = []\n",
    "    # Activities\n",
    "    for i in range(19):\n",
    "        activities.append('a' + str(format((i + 1), '02')))\n",
    "    # Person\n",
    "    for i in range(8):\n",
    "        persons.append('p' + str(i + 1))\n",
    "    # Segments \n",
    "    for i in range(60):\n",
    "        segments.append('s' + str(format((i + 1), '02')) + '.txt')\n",
    "    return(activities, persons, segments)"
   ]
  },
  {
   "cell_type": "code",
   "execution_count": 90,
   "metadata": {},
   "outputs": [],
   "source": [
    "def generate_feature_names():\n",
    "    feat_names = []\n",
    "    for unit_label in [\"T\", \"RA\", \"LA\", \"RL\", \"LL\"]:\n",
    "        for sensor  in [\"acc\", \"gyro\", \"mag\"]:\n",
    "            for position in ['X', 'Y', 'Z']:\n",
    "                feat_names.append(unit_label + \"_\" + position + sensor)\n",
    "    return feat_names"
   ]
  },
  {
   "cell_type": "code",
   "execution_count": 91,
   "metadata": {},
   "outputs": [],
   "source": [
    "def construct_dataset(activities, persons, segments, feature_names):\n",
    "    feature_names.append('person')\n",
    "    feature_names.append('activity')\n",
    "    dataset = pd.DataFrame()\n",
    "    activity_count = 0\n",
    "    count = 0\n",
    "    for activity in activities:\n",
    "        person_count = 0\n",
    "        for person in persons:\n",
    "            for segment in segments:\n",
    "                count += 1\n",
    "                path = 'data/' + activity + '/' + person + '/' + segment\n",
    "                data = pd.read_csv(path, header = None)\n",
    "                data['person'] = np.repeat(persons[person_count], data.shape[0])\n",
    "                data['activity'] = np.repeat(activity_names[activity_count], data.shape[0])\n",
    "                dataset = dataset.append(data)\n",
    "            person_count += 1\n",
    "        activity_count += 1\n",
    "    print(count)\n",
    "    return dataset"
   ]
  },
  {
   "cell_type": "code",
   "execution_count": 92,
   "metadata": {},
   "outputs": [],
   "source": [
    "def get_dataset():\n",
    "    (activities, persons, segments) = generate_path_names()\n",
    "    print(len(segments))\n",
    "    feature_names = generate_feature_names()\n",
    "    dataset = construct_dataset(activities, persons, segments, feature_names)\n",
    "    return dataset"
   ]
  },
  {
   "cell_type": "code",
   "execution_count": 93,
   "metadata": {},
   "outputs": [
    {
     "name": "stdout",
     "output_type": "stream",
     "text": [
      "60\n",
      "9120\n"
     ]
    }
   ],
   "source": [
    "dataset = None\n",
    "# Get Dataset\n",
    "dataset = get_dataset()"
   ]
  },
  {
   "cell_type": "code",
   "execution_count": 94,
   "metadata": {},
   "outputs": [
    {
     "data": {
      "text/plain": [
       "(1140000, 47)"
      ]
     },
     "execution_count": 94,
     "metadata": {},
     "output_type": "execute_result"
    }
   ],
   "source": [
    "dataset.shape"
   ]
  },
  {
   "cell_type": "code",
   "execution_count": 96,
   "metadata": {},
   "outputs": [],
   "source": [
    "feature_names = generate_feature_names()\n",
    "feature_names.append('person')\n",
    "feature_names.append('activity')"
   ]
  },
  {
   "cell_type": "code",
   "execution_count": 97,
   "metadata": {},
   "outputs": [],
   "source": [
    "dataset.columns = feature_names"
   ]
  },
  {
   "cell_type": "code",
   "execution_count": 99,
   "metadata": {},
   "outputs": [
    {
     "data": {
      "text/plain": [
       "(1140000, 47)"
      ]
     },
     "execution_count": 99,
     "metadata": {},
     "output_type": "execute_result"
    }
   ],
   "source": [
    "dataset.shape"
   ]
  },
  {
   "cell_type": "code",
   "execution_count": 100,
   "metadata": {},
   "outputs": [],
   "source": [
    "dataset.to_csv('readings.csv')"
   ]
  },
  {
   "cell_type": "code",
   "execution_count": null,
   "metadata": {},
   "outputs": [],
   "source": []
  }
 ],
 "metadata": {
  "kernelspec": {
   "display_name": "Python 3",
   "language": "python",
   "name": "python3"
  },
  "language_info": {
   "codemirror_mode": {
    "name": "ipython",
    "version": 3
   },
   "file_extension": ".py",
   "mimetype": "text/x-python",
   "name": "python",
   "nbconvert_exporter": "python",
   "pygments_lexer": "ipython3",
   "version": "3.6.6"
  }
 },
 "nbformat": 4,
 "nbformat_minor": 2
}
