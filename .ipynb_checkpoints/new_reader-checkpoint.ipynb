{
 "cells": [
  {
   "cell_type": "markdown",
   "metadata": {},
   "source": [
    "<h1><center>Location-aware Human Activity Recognition</center></h1>"
   ]
  },
  {
   "cell_type": "code",
   "execution_count": 72,
   "metadata": {},
   "outputs": [],
   "source": [
    "import math\n",
    "import numpy as np\n",
    "import pandas as pd\n",
    "import seaborn as sns\n",
    "import matplotlib.pyplot as plt\n",
    "from sklearn.preprocessing import scale\n",
    "%matplotlib inline"
   ]
  },
  {
   "cell_type": "code",
   "execution_count": 73,
   "metadata": {},
   "outputs": [],
   "source": [
    "def generate_file_names():\n",
    "    file_list = []\n",
    "    for activities in range(19):\n",
    "        for person in range(8):\n",
    "            for segments in range(60):\n",
    "                file_list.append('../data/' +\n",
    "                                 'a' + str(activities + 1).zfill(2) + '/'\n",
    "                                 'p' + str(person + 1) + '/'\n",
    "                                 's' + str(segments + 1).zfill(2) + '.txt'\n",
    "                                )\n",
    "\n",
    "    return file_list"
   ]
  },
  {
   "cell_type": "code",
   "execution_count": 166,
   "metadata": {},
   "outputs": [],
   "source": [
    "def extract_features(x):\n",
    "    numrows = len(x)\n",
    "    mean = np.mean(x, axis = 0)\n",
    "    std = np.std(x, axis = 0)\n",
    "    var = np.var(x, axis = 0)\n",
    "    median = np.median(x, axis = 0)\n",
    "    xmax = np.amax(x, axis = 0)\n",
    "    xmin = np.amin(x, axis = 0)\n",
    "    p2p = xmax - xmin\n",
    "    amp = xmax - mean\n",
    "    s2e = x[numrows-1,:] - x[0,:]\n",
    "    features = np.concatenate([mean, std, var, median, xmax, xmin, p2p, amp, s2e])\n",
    "    return features"
   ]
  },
  {
   "cell_type": "code",
   "execution_count": 182,
   "metadata": {},
   "outputs": [],
   "source": [
    "def data_generate():\n",
    "    filenames = generate_file_names()\n",
    "    feature_cols = []\n",
    "    for feature in ['mean', 'std', 'var', 'median', 'xmax', 'xmin', 'p2p', 'amp', 's2e']:\n",
    "        for unit_label in ['T', 'RA', 'LA', 'RL', 'LL']:\n",
    "            for sensor  in ['acc', 'gyro', 'mag']:\n",
    "                for position in ['X', 'Y', 'Z']:\n",
    "                    feature_cols.append(feature + '_' + unit_label + '_' + position + sensor)\n",
    "    activity_data = pd.DataFrame(columns=feature_cols)\n",
    "    data = []\n",
    "    activity = []\n",
    "    person = []\n",
    "    for i in range(len(filenames)):\n",
    "        activity.append('a' + str(i // 480 + 1))\n",
    "        person.append('p' + str((i // 60) % 8 + 1))\n",
    "        raw_data = np.genfromtxt(filenames[i], delimiter = ',', skip_header = 0)\n",
    "        row = extract_features(raw_data)\n",
    "        data.append(row)\n",
    "    data = scale(data, axis = 0)\n",
    "    activity_data = pd.DataFrame(data, columns = feature_cols)\n",
    "    activity_data['person'] = person\n",
    "    activity_data['activity'] = activity\n",
    "    return activity_data"
   ]
  }
 ],
 "metadata": {
  "kernelspec": {
   "display_name": "Python 3",
   "language": "python",
   "name": "python3"
  },
  "language_info": {
   "codemirror_mode": {
    "name": "ipython",
    "version": 3
   },
   "file_extension": ".py",
   "mimetype": "text/x-python",
   "name": "python",
   "nbconvert_exporter": "python",
   "pygments_lexer": "ipython3",
   "version": "3.7.1"
  }
 },
 "nbformat": 4,
 "nbformat_minor": 2
}
