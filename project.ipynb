{
 "cells": [
  {
   "cell_type": "code",
   "execution_count": 1,
   "metadata": {},
   "outputs": [],
   "source": [
    "import pandas as pd\n",
    "import numpy as np"
   ]
  },
  {
   "cell_type": "code",
   "execution_count": 2,
   "metadata": {},
   "outputs": [],
   "source": [
    "data = pd.read_csv('readings.csv')"
   ]
  },
  {
   "cell_type": "code",
   "execution_count": 3,
   "metadata": {},
   "outputs": [
    {
     "data": {
      "text/plain": [
       "(1140000, 48)"
      ]
     },
     "execution_count": 3,
     "metadata": {},
     "output_type": "execute_result"
    }
   ],
   "source": [
    "data.shape"
   ]
  },
  {
   "cell_type": "code",
   "execution_count": 4,
   "metadata": {},
   "outputs": [
    {
     "data": {
      "text/plain": [
       "array(['Unnamed: 0', 'T_Xacc', 'T_Yacc', 'T_Zacc', 'T_Xgyro', 'T_Ygyro',\n",
       "       'T_Zgyro', 'T_Xmag', 'T_Ymag', 'T_Zmag', 'RA_Xacc', 'RA_Yacc',\n",
       "       'RA_Zacc', 'RA_Xgyro', 'RA_Ygyro', 'RA_Zgyro', 'RA_Xmag',\n",
       "       'RA_Ymag', 'RA_Zmag', 'LA_Xacc', 'LA_Yacc', 'LA_Zacc', 'LA_Xgyro',\n",
       "       'LA_Ygyro', 'LA_Zgyro', 'LA_Xmag', 'LA_Ymag', 'LA_Zmag', 'RL_Xacc',\n",
       "       'RL_Yacc', 'RL_Zacc', 'RL_Xgyro', 'RL_Ygyro', 'RL_Zgyro',\n",
       "       'RL_Xmag', 'RL_Ymag', 'RL_Zmag', 'LL_Xacc', 'LL_Yacc', 'LL_Zacc',\n",
       "       'LL_Xgyro', 'LL_Ygyro', 'LL_Zgyro', 'LL_Xmag', 'LL_Ymag',\n",
       "       'LL_Zmag', 'person', 'activity'], dtype=object)"
      ]
     },
     "execution_count": 4,
     "metadata": {},
     "output_type": "execute_result"
    }
   ],
   "source": [
    "data.columns.values"
   ]
  },
  {
   "cell_type": "code",
   "execution_count": 6,
   "metadata": {},
   "outputs": [
    {
     "data": {
      "text/html": [
       "<div>\n",
       "<style scoped>\n",
       "    .dataframe tbody tr th:only-of-type {\n",
       "        vertical-align: middle;\n",
       "    }\n",
       "\n",
       "    .dataframe tbody tr th {\n",
       "        vertical-align: top;\n",
       "    }\n",
       "\n",
       "    .dataframe thead th {\n",
       "        text-align: right;\n",
       "    }\n",
       "</style>\n",
       "<table border=\"1\" class=\"dataframe\">\n",
       "  <thead>\n",
       "    <tr style=\"text-align: right;\">\n",
       "      <th></th>\n",
       "      <th>Unnamed: 0</th>\n",
       "      <th>T_Xacc</th>\n",
       "      <th>T_Yacc</th>\n",
       "      <th>T_Zacc</th>\n",
       "      <th>T_Xgyro</th>\n",
       "      <th>T_Ygyro</th>\n",
       "      <th>T_Zgyro</th>\n",
       "      <th>T_Xmag</th>\n",
       "      <th>T_Ymag</th>\n",
       "      <th>T_Zmag</th>\n",
       "      <th>...</th>\n",
       "      <th>LL_Yacc</th>\n",
       "      <th>LL_Zacc</th>\n",
       "      <th>LL_Xgyro</th>\n",
       "      <th>LL_Ygyro</th>\n",
       "      <th>LL_Zgyro</th>\n",
       "      <th>LL_Xmag</th>\n",
       "      <th>LL_Ymag</th>\n",
       "      <th>LL_Zmag</th>\n",
       "      <th>person</th>\n",
       "      <th>activity</th>\n",
       "    </tr>\n",
       "  </thead>\n",
       "  <tbody>\n",
       "    <tr>\n",
       "      <th>0</th>\n",
       "      <td>0</td>\n",
       "      <td>8.1305</td>\n",
       "      <td>1.0349</td>\n",
       "      <td>5.4217</td>\n",
       "      <td>-0.009461</td>\n",
       "      <td>0.001915</td>\n",
       "      <td>-0.003424</td>\n",
       "      <td>-0.78712</td>\n",
       "      <td>-0.069654</td>\n",
       "      <td>0.15730</td>\n",
       "      <td>...</td>\n",
       "      <td>-9.0812</td>\n",
       "      <td>2.6220</td>\n",
       "      <td>-0.000232</td>\n",
       "      <td>-0.012092</td>\n",
       "      <td>-0.004457</td>\n",
       "      <td>0.74017</td>\n",
       "      <td>0.30053</td>\n",
       "      <td>-0.057730</td>\n",
       "      <td>p1</td>\n",
       "      <td>sitting</td>\n",
       "    </tr>\n",
       "    <tr>\n",
       "      <th>1</th>\n",
       "      <td>1</td>\n",
       "      <td>8.1305</td>\n",
       "      <td>1.0202</td>\n",
       "      <td>5.3843</td>\n",
       "      <td>-0.009368</td>\n",
       "      <td>0.023485</td>\n",
       "      <td>0.001953</td>\n",
       "      <td>-0.78717</td>\n",
       "      <td>-0.068275</td>\n",
       "      <td>0.15890</td>\n",
       "      <td>...</td>\n",
       "      <td>-9.0737</td>\n",
       "      <td>2.6218</td>\n",
       "      <td>-0.014784</td>\n",
       "      <td>-0.016477</td>\n",
       "      <td>0.002789</td>\n",
       "      <td>0.73937</td>\n",
       "      <td>0.30183</td>\n",
       "      <td>-0.057514</td>\n",
       "      <td>p1</td>\n",
       "      <td>sitting</td>\n",
       "    </tr>\n",
       "    <tr>\n",
       "      <th>2</th>\n",
       "      <td>2</td>\n",
       "      <td>8.1604</td>\n",
       "      <td>1.0201</td>\n",
       "      <td>5.3622</td>\n",
       "      <td>0.015046</td>\n",
       "      <td>0.014330</td>\n",
       "      <td>0.000204</td>\n",
       "      <td>-0.78664</td>\n",
       "      <td>-0.068277</td>\n",
       "      <td>0.15879</td>\n",
       "      <td>...</td>\n",
       "      <td>-9.0886</td>\n",
       "      <td>2.6366</td>\n",
       "      <td>-0.012770</td>\n",
       "      <td>0.005717</td>\n",
       "      <td>-0.007918</td>\n",
       "      <td>0.73955</td>\n",
       "      <td>0.30052</td>\n",
       "      <td>-0.057219</td>\n",
       "      <td>p1</td>\n",
       "      <td>sitting</td>\n",
       "    </tr>\n",
       "    <tr>\n",
       "      <th>3</th>\n",
       "      <td>3</td>\n",
       "      <td>8.1603</td>\n",
       "      <td>1.0052</td>\n",
       "      <td>5.3770</td>\n",
       "      <td>0.006892</td>\n",
       "      <td>0.018045</td>\n",
       "      <td>0.005649</td>\n",
       "      <td>-0.78529</td>\n",
       "      <td>-0.069849</td>\n",
       "      <td>0.15912</td>\n",
       "      <td>...</td>\n",
       "      <td>-9.0811</td>\n",
       "      <td>2.6070</td>\n",
       "      <td>-0.005725</td>\n",
       "      <td>0.009620</td>\n",
       "      <td>0.006555</td>\n",
       "      <td>0.74029</td>\n",
       "      <td>0.30184</td>\n",
       "      <td>-0.057750</td>\n",
       "      <td>p1</td>\n",
       "      <td>sitting</td>\n",
       "    </tr>\n",
       "    <tr>\n",
       "      <th>4</th>\n",
       "      <td>4</td>\n",
       "      <td>8.1605</td>\n",
       "      <td>1.0275</td>\n",
       "      <td>5.3473</td>\n",
       "      <td>0.008811</td>\n",
       "      <td>0.030433</td>\n",
       "      <td>-0.005346</td>\n",
       "      <td>-0.78742</td>\n",
       "      <td>-0.068796</td>\n",
       "      <td>0.15916</td>\n",
       "      <td>...</td>\n",
       "      <td>-9.0737</td>\n",
       "      <td>2.6218</td>\n",
       "      <td>-0.003929</td>\n",
       "      <td>-0.008371</td>\n",
       "      <td>0.002816</td>\n",
       "      <td>0.73845</td>\n",
       "      <td>0.30090</td>\n",
       "      <td>-0.057527</td>\n",
       "      <td>p1</td>\n",
       "      <td>sitting</td>\n",
       "    </tr>\n",
       "  </tbody>\n",
       "</table>\n",
       "<p>5 rows × 48 columns</p>\n",
       "</div>"
      ],
      "text/plain": [
       "   Unnamed: 0  T_Xacc  T_Yacc  T_Zacc   T_Xgyro   T_Ygyro   T_Zgyro   T_Xmag  \\\n",
       "0           0  8.1305  1.0349  5.4217 -0.009461  0.001915 -0.003424 -0.78712   \n",
       "1           1  8.1305  1.0202  5.3843 -0.009368  0.023485  0.001953 -0.78717   \n",
       "2           2  8.1604  1.0201  5.3622  0.015046  0.014330  0.000204 -0.78664   \n",
       "3           3  8.1603  1.0052  5.3770  0.006892  0.018045  0.005649 -0.78529   \n",
       "4           4  8.1605  1.0275  5.3473  0.008811  0.030433 -0.005346 -0.78742   \n",
       "\n",
       "     T_Ymag   T_Zmag    ...     LL_Yacc  LL_Zacc  LL_Xgyro  LL_Ygyro  \\\n",
       "0 -0.069654  0.15730    ...     -9.0812   2.6220 -0.000232 -0.012092   \n",
       "1 -0.068275  0.15890    ...     -9.0737   2.6218 -0.014784 -0.016477   \n",
       "2 -0.068277  0.15879    ...     -9.0886   2.6366 -0.012770  0.005717   \n",
       "3 -0.069849  0.15912    ...     -9.0811   2.6070 -0.005725  0.009620   \n",
       "4 -0.068796  0.15916    ...     -9.0737   2.6218 -0.003929 -0.008371   \n",
       "\n",
       "   LL_Zgyro  LL_Xmag  LL_Ymag   LL_Zmag  person  activity  \n",
       "0 -0.004457  0.74017  0.30053 -0.057730      p1   sitting  \n",
       "1  0.002789  0.73937  0.30183 -0.057514      p1   sitting  \n",
       "2 -0.007918  0.73955  0.30052 -0.057219      p1   sitting  \n",
       "3  0.006555  0.74029  0.30184 -0.057750      p1   sitting  \n",
       "4  0.002816  0.73845  0.30090 -0.057527      p1   sitting  \n",
       "\n",
       "[5 rows x 48 columns]"
      ]
     },
     "execution_count": 6,
     "metadata": {},
     "output_type": "execute_result"
    }
   ],
   "source": []
  },
  {
   "cell_type": "code",
   "execution_count": 9,
   "metadata": {},
   "outputs": [
    {
     "data": {
      "text/plain": [
       "19"
      ]
     },
     "execution_count": 9,
     "metadata": {},
     "output_type": "execute_result"
    }
   ],
   "source": [
    "len(np.unique(data['activity']))"
   ]
  },
  {
   "cell_type": "code",
   "execution_count": 28,
   "metadata": {},
   "outputs": [
    {
     "data": {
      "image/png": "[encoded data removed]",
      "text/plain": [
       "<Figure size 432x288 with 1 Axes>"
      ]
     },
     "metadata": {
      "needs_background": "light"
     },
     "output_type": "display_data"
    }
   ],
   "source": [
    "import matplotlib.pyplot as plt\n",
    "plt.plot(data['LL_Xacc'].iloc[:125].values, linestyle='-')\n",
    "plt.show()"
   ]
  },
  {
   "cell_type": "code",
   "execution_count": null,
   "metadata": {},
   "outputs": [],
   "source": []
  }
 ],
 "metadata": {
  "kernelspec": {
   "display_name": "Python 3",
   "language": "python",
   "name": "python3"
  },
  "language_info": {
   "codemirror_mode": {
    "name": "ipython",
    "version": 3
   },
   "file_extension": ".py",
   "mimetype": "text/x-python",
   "name": "python",
   "nbconvert_exporter": "python",
   "pygments_lexer": "ipython3",
   "version": "3.6.6"
  }
 },
 "nbformat": 4,
 "nbformat_minor": 2
}
